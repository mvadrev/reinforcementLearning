{
  "nbformat": 4,
  "nbformat_minor": 0,
  "metadata": {
    "colab": {
      "provenance": [],
      "collapsed_sections": [],
      "authorship_tag": "ABX9TyMEoc5tRP5/X7fxEXt88bvc",
      "include_colab_link": true
    },
    "kernelspec": {
      "name": "python3",
      "display_name": "Python 3"
    },
    "language_info": {
      "name": "python"
    }
  },
  "cells": [
    {
      "cell_type": "markdown",
      "metadata": {
        "id": "view-in-github",
        "colab_type": "text"
      },
      "source": [
        "<a href=\"https://colab.research.google.com/github/mvadrev/reinforcementLearning/blob/main/Monte_Carlo_methods.ipynb\" target=\"_parent\"><img src=\"https://colab.research.google.com/assets/colab-badge.svg\" alt=\"Open In Colab\"/></a>"
      ]
    },
    {
      "cell_type": "code",
      "source": [
        "import gym\n",
        "import numpy as np \n",
        "from gym import spaces\n"
      ],
      "metadata": {
        "id": "weEsnPw7B50m"
      },
      "execution_count": null,
      "outputs": []
    },
    {
      "cell_type": "code",
      "source": [
        "class Robot(gym.Env):\n",
        "  metadata = {\"render_modes\": [\"human\"]}\n",
        "    \n",
        "  def __init__(self, alpha, beta, r_search, r_wait):\n",
        "    self.alpha = alpha\n",
        "    self.beta = beta\n",
        "    self.r_search = r_search      # reward for searching\n",
        "    self.r_wait = r_wait          # reward for waiting\n",
        "    self.charge = [\"0\",\"1\"]  # states\n",
        "    self.maxStep = 10\n",
        "\n",
        "    self.action_space = [0,1,2]\n",
        "    self.observation_space = [3]\n",
        "  \n",
        "  # Step for each time step\n",
        "  def step(self, action):\n",
        "    if self.action == 0:\n",
        "      self._search()\n",
        "    elif self.action == 1:\n",
        "      self._wait()\n",
        "    else:\n",
        "      self._charge()\n",
        "  \n",
        "  # Search action\n",
        "  def _search(self):\n",
        "    if self.charge == \"0\":\n",
        "      if np.random.random_sample() > self.alpha: # current state 0\n",
        "        self.charge = \"1\"\n",
        "    elif self.charge == \"1\":\n",
        "      if np.random.random_sample() > self.beta: # current state 1\n",
        "        self.charge = \"0\"\n",
        "        return self.charge, -3 # state = 0 (after charge), reward = -3\n",
        "    return self.charge, self.r_search, {} # state = 0/1, reward = r_search\n",
        "\n",
        "  # Wait action\n",
        "  def _wait(self):\n",
        "    return self.charge, self.r_wait, {} # state = 0/1, reward = r_wait\n",
        "\n",
        "  # Charging action\n",
        "  def _charge(self):\n",
        "    self.charge = \"0\"\n",
        "    return self.charge, 0, {} # state = 0, reward = 0\n",
        "\n",
        "  def reset(self):\n",
        "    self.charge = \"0\"\n",
        "    return self.charge, {}\n",
        "\n",
        "  def _getProb(self,s, a, s_p):\n",
        "    if(a == 0 and s == \"0\"):\n",
        "      return \n"
      ],
      "metadata": {
        "id": "0yDbEtarCFbb"
      },
      "execution_count": null,
      "outputs": []
    },
    {
      "cell_type": "code",
      "source": [
        "env = Robot(1,2,10,5)"
      ],
      "metadata": {
        "id": "0thtNmtvDe4J"
      },
      "execution_count": null,
      "outputs": []
    },
    {
      "cell_type": "code",
      "source": [
        "import numpy as np \n",
        "initPolicy = {0: [0.33, 0.33, 0.33], 1: [0.33, 0.33, 0.33] }\n",
        "initQ = {0: [0, 0, 0], 1: [0, 0, 0] }\n",
        "returns = {0: [0, 0, 0], 1: [0, 0, 0] }"
      ],
      "metadata": {
        "id": "eqzl3mxEH6rH"
      },
      "execution_count": null,
      "outputs": []
    },
    {
      "cell_type": "code",
      "source": [
        "initState = env.reset()\n",
        "# Init state = 0 "
      ],
      "metadata": {
        "id": "y8vX2XSyIHJI"
      },
      "execution_count": null,
      "outputs": []
    },
    {
      "cell_type": "code",
      "source": [
        "# generating episode\n"
      ],
      "metadata": {
        "colab": {
          "base_uri": "https://localhost:8080/"
        },
        "id": "WRse7LPVOhYn",
        "outputId": "75f92077-9c88-46a9-bde8-c37b231e2a2f"
      },
      "execution_count": null,
      "outputs": [
        {
          "output_type": "execute_result",
          "data": {
            "text/plain": [
              "('0', {})"
            ]
          },
          "metadata": {},
          "execution_count": 53
        }
      ]
    }
  ]
}