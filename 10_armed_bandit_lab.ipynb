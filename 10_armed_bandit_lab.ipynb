{
  "nbformat": 4,
  "nbformat_minor": 0,
  "metadata": {
    "colab": {
      "provenance": [],
      "collapsed_sections": [],
      "authorship_tag": "ABX9TyMecmLlsWA+024TVG4DkRaN",
      "include_colab_link": true
    },
    "kernelspec": {
      "name": "python3",
      "display_name": "Python 3"
    },
    "language_info": {
      "name": "python"
    }
  },
  "cells": [
    {
      "cell_type": "markdown",
      "metadata": {
        "id": "view-in-github",
        "colab_type": "text"
      },
      "source": [
        "<a href=\"https://colab.research.google.com/github/mvadrev/reinforcementLearning/blob/main/10_armed_bandit_lab.ipynb\" target=\"_parent\"><img src=\"https://colab.research.google.com/assets/colab-badge.svg\" alt=\"Open In Colab\"/></a>"
      ]
    },
    {
      "cell_type": "code",
      "execution_count": 25,
      "metadata": {
        "id": "aRJMXW_TyAXe"
      },
      "outputs": [],
      "source": [
        "from numpy.core.fromnumeric import argmax\n",
        "import numpy as np \n",
        "class tenBandit():\n",
        "       def __init__(self, arms, epsilon):\n",
        "\n",
        "         self.arms = np.array(range(arms), dtype='int')\n",
        "         self._initValues =  np.random.normal(0,1, size=10) #q-star\n",
        "         self.N = np.zeros(self.arms.size, dtype='int')\n",
        "         self.epsilon = epsilon\n",
        "         self.reward = np.zeros(self.arms.size)\n",
        "         self.actionCountLog = np.zeros(self.arms.size)\n",
        "\n",
        "         print(self.arms, self._initValues, self.N)\n",
        "\n",
        "       def action(self, arm): \n",
        "         value = self._initValues[arm]\n",
        "         return np.random.normal(value, 1)\n",
        "\n",
        "       "
      ]
    },
    {
      "cell_type": "code",
      "source": [
        "a = tenBandit(10, 1)\n",
        "\n"
      ],
      "metadata": {
        "colab": {
          "base_uri": "https://localhost:8080/"
        },
        "id": "tZxr6r4e0JWd",
        "outputId": "4ba19756-e720-410f-a715-76de98b26803"
      },
      "execution_count": 26,
      "outputs": [
        {
          "output_type": "stream",
          "name": "stdout",
          "text": [
            "[0 1 2 3 4 5 6 7 8 9] [ 1.31295898  1.23081282  1.17801537 -1.40460379  1.19313921 -0.22546198\n",
            " -2.23649845 -1.53767791  0.8574579  -0.091097  ] [0 0 0 0 0 0 0 0 0 0]\n"
          ]
        }
      ]
    },
    {
      "cell_type": "code",
      "source": [
        "def e_greedy(bandit, e, T):\n",
        "         # Run code T times\n",
        "         resultsForgraph = []\n",
        "         for i in range(T):\n",
        "            if (np.random.random() > a.epsilon):\n",
        "              print(\"exploring...\", np.random.choice(a.arms))\n",
        "              a.actionCountLog[np.random.choice(a.arms)] += 1 # Add selected action to actionCountLog\n",
        "              rewx = a.action(np.random.choice(a.arms))\n",
        "              # update values of actions\n",
        "              newQ = a._initValues[np.random.choice(a.arms)] + (1/a.actionCountLog[np.random.choice(a.arms)] * (rewx - a._initValues[np.random.choice(a.arms)] ))\n",
        "              resultsForgraph.append(a._initValues)\n",
        "            else:\n",
        "              print(\"exploiting..\", argmax(a._initValues)) # Select \n",
        "              a.actionCountLog[argmax(a._initValues)] += 1 # Add selected action to actionCountLog\n",
        "              rewy = a.action(argmax(a._initValues))\n",
        "              # update values of actions\n",
        "              newQQ = a._initValues[argmax(a._initValues)] + (1/a.actionCountLog[argmax(a._initValues)] * rewy - a._initValues[argmax(a._initValues)])\n",
        "              resultsForgraph.append(a._initValues)\n",
        "         return resultsForgraph\n",
        "            \n"
      ],
      "metadata": {
        "id": "nrmCADJX7R2O"
      },
      "execution_count": 43,
      "outputs": []
    },
    {
      "cell_type": "code",
      "source": [
        "a.action(1)"
      ],
      "metadata": {
        "colab": {
          "base_uri": "https://localhost:8080/"
        },
        "id": "__x6HQk08Our",
        "outputId": "aacc4bbd-48e9-427f-e9d0-1e539d8790a7"
      },
      "execution_count": 44,
      "outputs": [
        {
          "output_type": "execute_result",
          "data": {
            "text/plain": [
              "1.6285000961432001"
            ]
          },
          "metadata": {},
          "execution_count": 44
        }
      ]
    },
    {
      "cell_type": "code",
      "source": [
        "e_greedy(a,0.01,10)"
      ],
      "metadata": {
        "colab": {
          "base_uri": "https://localhost:8080/"
        },
        "id": "iKciKMVwLDD4",
        "outputId": "ed650fbc-4aa1-4d29-8d0e-fd7fe59fdcb5"
      },
      "execution_count": 46,
      "outputs": [
        {
          "output_type": "stream",
          "name": "stdout",
          "text": [
            "exploiting.. 0\n",
            "exploiting.. 0\n",
            "exploiting.. 0\n",
            "exploiting.. 0\n",
            "exploiting.. 0\n",
            "exploiting.. 0\n",
            "exploiting.. 0\n",
            "exploiting.. 0\n",
            "exploiting.. 0\n",
            "exploiting.. 0\n"
          ]
        },
        {
          "output_type": "execute_result",
          "data": {
            "text/plain": [
              "[array([ 1.31295898,  1.23081282,  1.17801537, -1.40460379,  1.19313921,\n",
              "        -0.22546198, -2.23649845, -1.53767791,  0.8574579 , -0.091097  ]),\n",
              " array([ 1.31295898,  1.23081282,  1.17801537, -1.40460379,  1.19313921,\n",
              "        -0.22546198, -2.23649845, -1.53767791,  0.8574579 , -0.091097  ]),\n",
              " array([ 1.31295898,  1.23081282,  1.17801537, -1.40460379,  1.19313921,\n",
              "        -0.22546198, -2.23649845, -1.53767791,  0.8574579 , -0.091097  ]),\n",
              " array([ 1.31295898,  1.23081282,  1.17801537, -1.40460379,  1.19313921,\n",
              "        -0.22546198, -2.23649845, -1.53767791,  0.8574579 , -0.091097  ]),\n",
              " array([ 1.31295898,  1.23081282,  1.17801537, -1.40460379,  1.19313921,\n",
              "        -0.22546198, -2.23649845, -1.53767791,  0.8574579 , -0.091097  ]),\n",
              " array([ 1.31295898,  1.23081282,  1.17801537, -1.40460379,  1.19313921,\n",
              "        -0.22546198, -2.23649845, -1.53767791,  0.8574579 , -0.091097  ]),\n",
              " array([ 1.31295898,  1.23081282,  1.17801537, -1.40460379,  1.19313921,\n",
              "        -0.22546198, -2.23649845, -1.53767791,  0.8574579 , -0.091097  ]),\n",
              " array([ 1.31295898,  1.23081282,  1.17801537, -1.40460379,  1.19313921,\n",
              "        -0.22546198, -2.23649845, -1.53767791,  0.8574579 , -0.091097  ]),\n",
              " array([ 1.31295898,  1.23081282,  1.17801537, -1.40460379,  1.19313921,\n",
              "        -0.22546198, -2.23649845, -1.53767791,  0.8574579 , -0.091097  ]),\n",
              " array([ 1.31295898,  1.23081282,  1.17801537, -1.40460379,  1.19313921,\n",
              "        -0.22546198, -2.23649845, -1.53767791,  0.8574579 , -0.091097  ])]"
            ]
          },
          "metadata": {},
          "execution_count": 46
        }
      ]
    },
    {
      "cell_type": "code",
      "source": [
        "a.actionCountLog"
      ],
      "metadata": {
        "colab": {
          "base_uri": "https://localhost:8080/"
        },
        "id": "k6KI4qfCUCv0",
        "outputId": "e6fa42c2-85c9-4085-8603-4c48dcda12c5"
      },
      "execution_count": 41,
      "outputs": [
        {
          "output_type": "execute_result",
          "data": {
            "text/plain": [
              "array([12.,  0.,  0.,  0.,  0.,  0.,  0.,  0.,  0.,  0.])"
            ]
          },
          "metadata": {},
          "execution_count": 41
        }
      ]
    },
    {
      "cell_type": "code",
      "source": [
        "a.ac"
      ],
      "metadata": {
        "id": "tNvwV9cx3syV"
      },
      "execution_count": null,
      "outputs": []
    }
  ]
}